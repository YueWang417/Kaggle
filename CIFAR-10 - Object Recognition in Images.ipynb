{
 "cells": [
  {
   "cell_type": "code",
   "execution_count": 1,
   "id": "5659ef6a",
   "metadata": {
    "_cell_guid": "b1076dfc-b9ad-4769-8c92-a6c4dae69d19",
    "_uuid": "8f2839f25d086af736a60e9eeb907d3b93b6e0e5",
    "execution": {
     "iopub.execute_input": "2023-06-18T22:26:57.290076Z",
     "iopub.status.busy": "2023-06-18T22:26:57.288895Z",
     "iopub.status.idle": "2023-06-18T22:27:00.906865Z",
     "shell.execute_reply": "2023-06-18T22:27:00.904771Z"
    },
    "papermill": {
     "duration": 3.624991,
     "end_time": "2023-06-18T22:27:00.910059",
     "exception": false,
     "start_time": "2023-06-18T22:26:57.285068",
     "status": "completed"
    },
    "tags": []
   },
   "outputs": [
    {
     "name": "stdout",
     "output_type": "stream",
     "text": [
      "/kaggle/input/cifar-10/trainLabels.csv\n",
      "/kaggle/input/cifar-10/sampleSubmission.csv\n",
      "/kaggle/input/cifar-10/test.7z\n",
      "/kaggle/input/cifar-10/train.7z\n"
     ]
    }
   ],
   "source": [
    "import numpy as np \n",
    "import pandas as pd\n",
    "import shutil \n",
    "import torch\n",
    "import torchvision\n",
    "from torch import nn\n",
    "import os\n",
    "for dirname, _, filenames in os.walk('/kaggle/input'):\n",
    "    for filename in filenames:\n",
    "        print(os.path.join(dirname, filename))\n",
    "\n",
    "# You can write up to 20GB to the current directory (/kaggle/working/) that gets preserved as output when you create a version using \"Save & Run All\" \n",
    "# You can also write temporary files to /kaggle/temp/, but they won't be saved outside of the current session"
   ]
  },
  {
   "cell_type": "code",
   "execution_count": null,
   "id": "2511c99c",
   "metadata": {
    "execution": {
     "iopub.execute_input": "2023-06-18T22:09:13.799140Z",
     "iopub.status.busy": "2023-06-18T22:09:13.798744Z",
     "iopub.status.idle": "2023-06-18T22:09:17.435349Z",
     "shell.execute_reply": "2023-06-18T22:09:17.434156Z",
     "shell.execute_reply.started": "2023-06-18T22:09:13.799111Z"
    },
    "papermill": {
     "duration": 0.001353,
     "end_time": "2023-06-18T22:27:00.913473",
     "exception": false,
     "start_time": "2023-06-18T22:27:00.912120",
     "status": "completed"
    },
    "tags": []
   },
   "outputs": [],
   "source": []
  },
  {
   "cell_type": "code",
   "execution_count": null,
   "id": "bf39172a",
   "metadata": {
    "papermill": {
     "duration": 0.001232,
     "end_time": "2023-06-18T22:27:00.916172",
     "exception": false,
     "start_time": "2023-06-18T22:27:00.914940",
     "status": "completed"
    },
    "tags": []
   },
   "outputs": [],
   "source": []
  }
 ],
 "metadata": {
  "kernelspec": {
   "display_name": "Python 3",
   "language": "python",
   "name": "python3"
  },
  "language_info": {
   "codemirror_mode": {
    "name": "ipython",
    "version": 3
   },
   "file_extension": ".py",
   "mimetype": "text/x-python",
   "name": "python",
   "nbconvert_exporter": "python",
   "pygments_lexer": "ipython3",
   "version": "3.10.10"
  },
  "papermill": {
   "default_parameters": {},
   "duration": 14.224639,
   "end_time": "2023-06-18T22:27:02.242271",
   "environment_variables": {},
   "exception": null,
   "input_path": "__notebook__.ipynb",
   "output_path": "__notebook__.ipynb",
   "parameters": {},
   "start_time": "2023-06-18T22:26:48.017632",
   "version": "2.4.0"
  }
 },
 "nbformat": 4,
 "nbformat_minor": 5
}
